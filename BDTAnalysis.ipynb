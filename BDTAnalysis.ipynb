{
 "cells": [
  {
   "cell_type": "code",
   "execution_count": 1,
   "id": "6949aaf1",
   "metadata": {},
   "outputs": [
    {
     "name": "stdout",
     "output_type": "stream",
     "text": [
      "Welcome to JupyROOT 6.24/06\n"
     ]
    }
   ],
   "source": [
    "import root_pandas as rp\n",
    "import pandas as pd\n",
    "import matplotlib.pyplot as plt\n",
    "import numpy as np"
   ]
  },
  {
   "cell_type": "code",
   "execution_count": 2,
   "id": "34608f0d",
   "metadata": {},
   "outputs": [],
   "source": [
    "mc=rp.read_root('RootFiles/splitMC.root','MCTest')\n",
    "data=rp.read_root('RootFiles/data.root')"
   ]
  },
  {
   "cell_type": "code",
   "execution_count": 3,
   "id": "e8a41d69",
   "metadata": {},
   "outputs": [],
   "source": [
    "mc['BDTval']=rp.read_root('RootFiles/TMVAppValues.root')\n",
    "data['BDTval']=rp.read_root('RootFiles/TMVAppValuesData.root')"
   ]
  },
  {
   "cell_type": "code",
   "execution_count": 74,
   "id": "65424e7a",
   "metadata": {},
   "outputs": [],
   "source": [
    "mccut=mc[mc['BDTval']>0.3]\n",
    "datacut=data[data['BDTval']>0.5]"
   ]
  },
  {
   "cell_type": "code",
   "execution_count": 84,
   "id": "eb1e125f",
   "metadata": {},
   "outputs": [
    {
     "data": {
      "image/png": "[encoded data removed]",
      "text/plain": [
       "<Figure size 432x288 with 1 Axes>"
      ]
     },
     "metadata": {
      "needs_background": "light"
     },
     "output_type": "display_data"
    }
   ],
   "source": [
    "fig,ax = plt.subplots(1)\n",
    "#plt.hist(data['mll'],bins=40000,weights=data['weight'],color='b',alpha=0.4,label='Data without cuts')\n",
    "#plt.hist(datacut['mll'],bins=50,weights=datacut['weight'],color='r',alpha=0.4,label='Data with cuts')\n",
    "#plt.hist(mc['mll'],weights=mc['weight'],bins=20000,color='g',alpha=0.7,label='Simulated Data without cuts')\n",
    "plt.hist(mccut['mll'],weights=mccut['weight'],bins=40,color='r',alpha=0.7,label='Simulated Data with cuts')\n",
    "plt.xlim([70,120])\n",
    "plt.ylim([0,60000])\n",
    "plt.legend(loc=\"upper right\")\n",
    "plt.show()"
   ]
  },
  {
   "cell_type": "code",
   "execution_count": 60,
   "id": "00b74a61",
   "metadata": {},
   "outputs": [
    {
     "data": {
      "image/png": "[encoded data removed]",
      "text/plain": [
       "<Figure size 432x288 with 1 Axes>"
      ]
     },
     "metadata": {
      "needs_background": "light"
     },
     "output_type": "display_data"
    }
   ],
   "source": [
    "fig,ax = plt.subplots(1)\n",
    "plt.hist(data['mll'],bins=40000,weights=data['weight'],color='b',alpha=0.4,label='Data without cuts')\n",
    "plt.hist(datacut['mll'],bins=100,weights=datacut['weight'],color='r',alpha=0.4,label='Data with cuts')\n",
    "#plt.hist(mc['mll'],weights=mc['weight'],bins=500,color='g',alpha=0.7,label='Simulated Data without cuts')\n",
    "#plt.hist(mccut['mll'],weights=mccut['weight'],bins=50,color='r',alpha=0.7,label='Simulated Data with cuts')\n",
    "plt.xlim([70,120])\n",
    "plt.ylim([0,25000])\n",
    "plt.legend(loc=\"upper right\")\n",
    "plt.show()"
   ]
  },
  {
   "cell_type": "code",
   "execution_count": null,
   "id": "418d8a08",
   "metadata": {},
   "outputs": [],
   "source": [
    "fig,ax = plt.subplots(1)\n",
    "#plt.hist(data['mll'],bins=40000,weights=data['weight'],color='b',alpha=0.4,label='Data without cuts')\n",
    "#plt.hist(datacut['mll'],bins=50,weights=datacut['weight'],color='r',alpha=0.4,label='Data with cuts')\n",
    "plt.hist(mc['mll'],weights=mc['weight'],bins=500,color='g',alpha=0.7,label='Simulated Data without cuts')\n",
    "plt.hist(mccut['mll'],weights=mccut['weight'],bins=50,color='r',alpha=0.7,label='Simulated Data with cuts')\n",
    "plt.xlim([70,120])\n",
    "plt.ylim([0,25000])\n",
    "plt.legend(loc=\"upper right\")\n",
    "plt.show()"
   ]
  }
 ],
 "metadata": {
  "kernelspec": {
   "display_name": "Python 3",
   "language": "python",
   "name": "python3"
  },
  "language_info": {
   "codemirror_mode": {
    "name": "ipython",
    "version": 3
   },
   "file_extension": ".py",
   "mimetype": "text/x-python",
   "name": "python",
   "nbconvert_exporter": "python",
   "pygments_lexer": "ipython3",
   "version": "3.9.6"
  }
 },
 "nbformat": 4,
 "nbformat_minor": 5
}
