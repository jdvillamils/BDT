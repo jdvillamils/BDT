{
 "cells": [
  {
   "cell_type": "code",
   "execution_count": null,
   "id": "4667148d",
   "metadata": {},
   "outputs": [],
   "source": [
    "import uproot3\n",
    "import pandas as pd \n",
    "import time \n",
    "import math \n",
    "import numpy as np \n",
    "import matplotlib.pyplot as plt \n",
    "from matplotlib.ticker import AutoMinorLocator \n",
    "\n",
    "#Local information file\n",
    "import infofile "
   ]
  },
  {
   "cell_type": "code",
   "execution_count": 3,
   "id": "241c2b80",
   "metadata": {},
   "outputs": [],
   "source": [
    "samples = {\n",
    "    \n",
    "    'data' : {\n",
    "        'list' : ['data_A',\n",
    "                 'data_B',\n",
    "                 'data_C',\n",
    "                 'data_D']\n",
    "    },\n",
    "    \n",
    "    'Z' : {\n",
    "        'list' : ['Zee',\n",
    "                 'Zmumu',\n",
    "                 'Ztautau']\n",
    "    },\n",
    "    \n",
    "    'diboson' : {\n",
    "        'list' : ['ZqqZll',\n",
    "                  'WqqZll',\n",
    "                  'WpqqWmlv',\n",
    "                  'WplvWmqq',\n",
    "                  'WlvZqq',\n",
    "                  'llll',\n",
    "                  'lllv',\n",
    "                  'llvv',\n",
    "                  'lvvv']\n",
    "    },\n",
    "    \n",
    "    'single_top' : {\n",
    "        'list' : ['single_top_tchan',\n",
    "                  'single_antitop_tchan',\n",
    "                  'single_top_schan',\n",
    "                  'single_antitop_schan',\n",
    "                  'single_top_wtchan',\n",
    "                  'single_antitop_wtchan']\n",
    "    },\n",
    "    \n",
    "    'WJets' : {\n",
    "        'list' : ['Wplusenu',\n",
    "                 'Wplusmunu',\n",
    "                 'Wplustaunu',\n",
    "                 'Wminusenu',\n",
    "                 'Wminusmunu',\n",
    "                 'Wminustaunu']\n",
    "    }\n",
    "}"
   ]
  },
  {
   "cell_type": "code",
   "execution_count": null,
   "id": "5cfb905e",
   "metadata": {},
   "outputs": [],
   "source": [
    "lumi = 10 # data_A+B+C+D\n",
    "\n",
    "fraction = 1 # reduce to run quicker\n",
    "\n",
    "tuple_path = \"http://opendata.cern.ch/eos/opendata/atlas/OutreachDatasets/2020-01-22/2lep/\" "
   ]
  },
  {
   "cell_type": "code",
   "execution_count": null,
   "id": "92d1acd9",
   "metadata": {},
   "outputs": [],
   "source": [
    "def get_data_from_files():\n",
    "\n",
    "    data = {} \n",
    "    for s in samples: \n",
    "        print('Processing '+s+' samples') \n",
    "        frames = [] \n",
    "        for val in samples[s]['list']: \n",
    "            if s == 'data': prefix = \"Data/\" # Data prefix\n",
    "            else: # MC prefix\n",
    "                prefix = \"MC/mc_\"+str(infofile.infos[val][\"DSID\"])+\".\"\n",
    "            fileString = tuple_path+prefix+val+\".1largeRjet1lep.root\" \n",
    "            temp = read_file(fileString,val) \n",
    "            frames.append(temp) \n",
    "        data[s] = pd.concat(frames) \n",
    "    \n",
    "    return data "
   ]
  },
  {
   "cell_type": "code",
   "execution_count": null,
   "id": "2ba1def3",
   "metadata": {},
   "outputs": [],
   "source": []
  }
 ],
 "metadata": {
  "kernelspec": {
   "display_name": "Python 3",
   "language": "python",
   "name": "python3"
  },
  "language_info": {
   "codemirror_mode": {
    "name": "ipython",
    "version": 3
   },
   "file_extension": ".py",
   "mimetype": "text/x-python",
   "name": "python",
   "nbconvert_exporter": "python",
   "pygments_lexer": "ipython3",
   "version": "3.9.6"
  }
 },
 "nbformat": 4,
 "nbformat_minor": 5
}
