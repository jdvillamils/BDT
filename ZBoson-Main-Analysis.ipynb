{
 "cells": [
  {
   "cell_type": "markdown",
   "id": "f2841201",
   "metadata": {},
   "source": [
    "# Z Boson Analysis using a Boosted Decision Tree, with TMVA and JupyROOT"
   ]
  },
  {
   "cell_type": "markdown",
   "id": "31046115",
   "metadata": {},
   "source": [
    "This notebook uses the available Atlas Open Data http://opendata.atlas.cern, to study the Z boson production in the two-lepton final state http://opendata.atlas.cern/release/2020/documentation/physics/DL1.html. \n",
    "\n",
    "Here, a full analysis of the Z boson production is made, filtering and selecting the events in order to satisfy the selection criteria. The goal is to process the results with the TMVA, in order to train a Boosted Decision Tree with a fraction of the samples. This tool returns back a BDT variable which allows to cut on events tagged as background, that is, minimizing the amount of background, so we just keep signal information.\n",
    "\n",
    "TMVA requires separate samples for signal, background and data, then a first analysis is made just for the simulated signal samples, filtering the events to keep the best information of the process, and saving it in a root file. The analysis for background and data is similar in both cases, just recreating the interest variables, and discargind some useless events, but not filtering as much as in the signal section.\n",
    "\n",
    "This notebook has the advantage of being simple to understand and allows to have an easy control over the samples that are being used, also it do not requires variable initialization. \n"
   ]
  },
  {
   "cell_type": "code",
   "execution_count": 2,
   "id": "726c3cc0",
   "metadata": {},
   "outputs": [],
   "source": [
    "import ROOT\n",
    "from ROOT import TMath, TChain\n",
    "import time\n",
    "import uproot3\n",
    "import numpy as np\n",
    "import root_pandas as rp\n",
    "import infofile"
   ]
  },
  {
   "cell_type": "markdown",
   "id": "57ccc5ee",
   "metadata": {},
   "source": [
    "## Signal Section\n",
    "\n",
    "First, we select and extract the signal samples from the simulated MC samples"
   ]
  },
  {
   "cell_type": "code",
   "execution_count": 2,
   "id": "46b2b219",
   "metadata": {},
   "outputs": [],
   "source": [
    "tree = TChain(\"mini\") #Create a chain to store the samples\n",
    "tree.Add(\"https://atlas-opendata.web.cern.ch/atlas-opendata/samples/2020/2lep/MC/mc_361106.Zee.2lep.root\")\n",
    "t1=tree.GetEntries()\n",
    "tree.Add(\"https://atlas-opendata.web.cern.ch/atlas-opendata/samples/2020/2lep/MC/mc_361107.Zmumu.2lep.root\")\n",
    "t2=tree.GetEntries()\n",
    "tree.Add(\"https://atlas-opendata.web.cern.ch/atlas-opendata/samples/2020/2lep/MC/mc_361108.Ztautau.2lep.root\")\n",
    "t3=tree.GetEntries()\n",
    "samplesSig = [t1,t2,t3]\n",
    "print(samplesSig)"
   ]
  },
  {
   "cell_type": "code",
   "execution_count": 4,
   "id": "0b270d15",
   "metadata": {},
   "outputs": [
    {
     "data": {
      "text/plain": [
       "<TFileRecreate b'signal.root' at 0x7f2089f83670>"
      ]
     },
     "execution_count": 4,
     "metadata": {},
     "output_type": "execute_result"
    }
   ],
   "source": [
    "#create the target root file \n",
    "roofs = uproot3.recreate(\"RootFiles/signal.root\")\n",
    "roofs"
   ]
  },
  {
   "cell_type": "markdown",
   "id": "d7f04b51",
   "metadata": {},
   "source": [
    "Inside target root file, we open the interest variables, in this case we just keep the invariant mass from the two lepton system, and the Pt of the leading and subleading leptons"
   ]
  },
  {
   "cell_type": "code",
   "execution_count": 5,
   "id": "5a493001",
   "metadata": {},
   "outputs": [],
   "source": [
    "roofs[\"signal\"] = uproot3.newtree({\"mll\": np.float32, \"lead\": np.float32, \"sublead\": np.float32, \"weight\": np.float32})"
   ]
  },
  {
   "cell_type": "code",
   "execution_count": 6,
   "id": "1c55beb7",
   "metadata": {},
   "outputs": [
    {
     "name": "stdout",
     "output_type": "stream",
     "text": [
      "Running a total of  44153520  events\n",
      "10M completed in 34 min 18 s\n",
      "Approx time for finishing is 117 min 11 s\n",
      "20M completed in 69 min 49 s\n",
      "Approx time for finishing is 84 min 19 s\n",
      "30M completed in 106 min 13 s\n",
      "Approx time for finishing is 50 min 6 s\n",
      "40M completed in 142 min 46 s\n",
      "Approx time for finishing is 14 min 49 s\n",
      "Initial events: 44153520\n",
      "Final events: 8498254\n",
      "Finished in 157 min 38 s\n",
      "Successful close\n"
     ]
    }
   ],
   "source": [
    "start = time.time()\n",
    "#list to store information of good events\n",
    "invM=[]\n",
    "leadpt=[]\n",
    "subleadpt=[]\n",
    "weights=[]\n",
    "leadlepton = ROOT.TLorentzVector()\n",
    "subleadlepton = ROOT.TLorentzVector()\n",
    "lepton12 = ROOT.TLorentzVector()\n",
    "k=0\n",
    "kf=0\n",
    "lumi=10\n",
    "index1=0\n",
    "index2=0\n",
    "print(\"Running a total of \",samplesSig[2],\" events\")\n",
    "for event in tree:\n",
    "    k=k+1\n",
    "    goodlep=0\n",
    "    #if you want to reduce computation times, you can stop the process after a number of events\n",
    "    #if(k==10000000): break #just make sure you obtain enough final events.\n",
    "    \n",
    "    #start cutting on events\n",
    "    if(tree.trigE or tree.trigM):\n",
    "        if(tree.lep_n==2):\n",
    "            for j in range(tree.lep_n):\n",
    "                if((tree.lep_pt[j]>25000.) and (tree.lep_ptcone30[j]/tree.lep_pt[j] < 0.15) and (tree.lep_etcone20[j]/tree.lep_pt[j] < 0.15)):\n",
    "                    #Good electron\n",
    "                    if(tree.lep_type[j]==11 and abs(tree.lep_eta[j])<2.47 and (abs(tree.lep_eta[j])<1.37 or abs(tree.lep_eta[j])>1.52)):\n",
    "                        theta = 2*np.arctan(np.exp(-tree.lep_eta[j]))\n",
    "                        if(tree.lep_trackd0pvunbiased[j]/tree.lep_tracksigd0pvunbiased[j] < 5 and abs(tree.lep_z0[j]*np.sin(theta))<0.5):\n",
    "                            goodlep+=1\n",
    "                            index1=j\n",
    "                    #Good muon\n",
    "                    if(tree.lep_type[j]==13 and abs(tree.lep_eta[j]<2.5)):\n",
    "                        theta = 2*np.arctan(np.exp(-tree.lep_eta[j]))\n",
    "                        if(tree.lep_trackd0pvunbiased[j]/tree.lep_tracksigd0pvunbiased[j] < 3 and abs(tree.lep_z0[j]*np.sin(theta))<0.5):\n",
    "                            goodlep+=1\n",
    "                            index2=j\n",
    "            if(goodlep==2):\n",
    "                if(tree.jet_n==0):\n",
    "                    if(tree.lep_charge[index1]*tree.lep_charge[index2] < 0 and tree.lep_type[index1]==tree.lep_type[index2]):\n",
    "                        if(tree.lep_pt[index1]>tree.lep_pt[index2]):\n",
    "                            leadlepton.SetPtEtaPhiE(tree.lep_pt[index1], tree.lep_eta[index1], tree.lep_phi[index1], tree.lep_E[index1])\n",
    "                            subleadlepton.SetPtEtaPhiE(tree.lep_pt[index2], tree.lep_eta[index2], tree.lep_phi[index2], tree.lep_E[index2])\n",
    "                        else:\n",
    "                            leadlepton.SetPtEtaPhiE(tree.lep_pt[index2], tree.lep_eta[index2], tree.lep_phi[index2], tree.lep_E[index2])\n",
    "                            subleadlepton.SetPtEtaPhiE(tree.lep_pt[index1], tree.lep_eta[index1], tree.lep_phi[index1], tree.lep_E[index1])\n",
    "                        lepton12=leadlepton+subleadlepton\n",
    "                        invmass=lepton12.M()/1000.\n",
    "                        if(abs(invmass-91.18)<25.):\n",
    "                            ptlead=leadlepton.Pt()/1000.\n",
    "                            ptsub=subleadlepton.Pt()/1000.\n",
    "                            invM.append(invmass)\n",
    "                            leadpt.append(ptlead)\n",
    "                            subleadpt.append(ptsub)\n",
    "                            #Here, it is necessary to check from which process does the event come\n",
    "                            #Because we are using a TChain, the only way to determine the origin of the event is by its lenght\n",
    "                            #This is done with the sizes of each sample. These were store in SamplesSig\n",
    "                            if(k<=samplesSig[0]):\n",
    "                                sample='Zee'\n",
    "                            if(k>samplesSig[0] and k<=samplesSig[1]):\n",
    "                                sample='Zmumu'\n",
    "                            if(k>samplesSig[1] and k<=samplesSig[2]):\n",
    "                                sample='Ztautau'\n",
    "                            info = infofile.infos[sample]\n",
    "                            xsec_weight = (lumi*1000*info[\"xsec\"])/(info[\"sumw\"]*info[\"red_eff\"])\n",
    "                            weight=xsec_weight*tree.mcWeight*tree.scaleFactor_PILEUP*tree.scaleFactor_ELE*tree.scaleFactor_MUON*tree.scaleFactor_LepTRIGGER\n",
    "                            weights.append(weight)\n",
    "                            kf+=1\n",
    "    #Time control section\n",
    "    if(k==10000000):\n",
    "        xd=time.time()\n",
    "        taked=xd-start\n",
    "        tre=(samplesSig[2]-k)*taked/k\n",
    "        print(\"10M completed in {} min {} s\".format(int(taked//60),int(taked%60)))\n",
    "        print(\"Approx time for finishing is {} min {} s\".format(int(tre//60),int(tre%60))) \n",
    "    if(k==20000000):\n",
    "        xd=time.time()\n",
    "        taked=xd-start\n",
    "        tre=(samplesSig[2]-k)*taked/k\n",
    "        print(\"20M completed in {} min {} s\".format(int(taked//60),int(taked%60)))\n",
    "        print(\"Approx time for finishing is {} min {} s\".format(int(tre//60),int(tre%60))) \n",
    "    if(k==30000000):\n",
    "        xd=time.time()\n",
    "        taked=xd-start\n",
    "        tre=(samplesSig[2]-k)*taked/k\n",
    "        print(\"30M completed in {} min {} s\".format(int(taked//60),int(taked%60)))\n",
    "        print(\"Approx time for finishing is {} min {} s\".format(int(tre//60),int(tre%60))) \n",
    "    if(k==40000000):\n",
    "        xd=time.time()\n",
    "        taked=xd-start\n",
    "        tre=(samplesSig[2]-k)*taked/k\n",
    "        print(\"40M completed in {} min {} s\".format(int(taked//60),int(taked%60)))\n",
    "        print(\"Approx time for finishing is {} min {} s\".format(int(tre//60),int(tre%60))) \n",
    "\n",
    "end = time.time()\n",
    "duration = end-start\n",
    "print('Initial events:', k)\n",
    "print('Final events:', kf)\n",
    "print(\"Finished in {} min {} s\".format(int(duration//60),int(duration%60)))\n",
    "#writing and closing root file\n",
    "roofs[\"signal\"].extend({\"mll\": invM, \"lead\": leadpt, \"sublead\": subleadpt, \"weight\": weights})\n",
    "roofs.close()\n",
    "print('Successful close')"
   ]
  },
  {
   "cell_type": "markdown",
   "id": "c272e6fd",
   "metadata": {},
   "source": [
    "## Now the background section\n",
    "\n",
    "We also extract the background samples from the MC samples"
   ]
  },
  {
   "cell_type": "code",
   "execution_count": 11,
   "id": "673447f0",
   "metadata": {},
   "outputs": [],
   "source": [
    "treeb = TChain(\"mini\")\n",
    "treeb.Add(\"https://atlas-opendata.web.cern.ch/atlas-opendata/samples/2020/2lep/MC/mc_363356.ZqqZll.2lep.root\")\n",
    "b1=treeb.GetEntries()\n",
    "treeb.Add(\"https://atlas-opendata.web.cern.ch/atlas-opendata/samples/2020/2lep/MC/mc_363358.WqqZll.2lep.root\")\n",
    "b2=treeb.GetEntries()\n",
    "treeb.Add(\"https://atlas-opendata.web.cern.ch/atlas-opendata/samples/2020/2lep/MC/mc_363359.WpqqWmlv.2lep.root\")\n",
    "b3=treeb.GetEntries()\n",
    "treeb.Add(\"https://atlas-opendata.web.cern.ch/atlas-opendata/samples/2020/2lep/MC/mc_363360.WplvWmqq.2lep.root\")\n",
    "b4=treeb.GetEntries()\n",
    "treeb.Add(\"https://atlas-opendata.web.cern.ch/atlas-opendata/samples/2020/2lep/MC/mc_363489.WlvZqq.2lep.root\")\n",
    "b5=treeb.GetEntries()\n",
    "treeb.Add(\"https://atlas-opendata.web.cern.ch/atlas-opendata/samples/2020/2lep/MC/mc_363490.llll.2lep.root\")\n",
    "b6=treeb.GetEntries()\n",
    "treeb.Add(\"https://atlas-opendata.web.cern.ch/atlas-opendata/samples/2020/2lep/MC/mc_363491.lllv.2lep.root\")\n",
    "b7=treeb.GetEntries()\n",
    "treeb.Add(\"https://atlas-opendata.web.cern.ch/atlas-opendata/samples/2020/2lep/MC/mc_363492.llvv.2lep.root\")\n",
    "b8=treeb.GetEntries()\n",
    "treeb.Add(\"https://atlas-opendata.web.cern.ch/atlas-opendata/samples/2020/2lep/MC/mc_363493.lvvv.2lep.root\")\n",
    "b9=treeb.GetEntries()\n",
    "treeb.Add(\"https://atlas-opendata.web.cern.ch/atlas-opendata/samples/2020/2lep/MC/mc_410011.single_top_tchan.2lep.root\")\n",
    "b10=treeb.GetEntries()\n",
    "treeb.Add(\"https://atlas-opendata.web.cern.ch/atlas-opendata/samples/2020/2lep/MC/mc_410012.single_antitop_tchan.2lep.root\")\n",
    "b11=treeb.GetEntries()\n",
    "treeb.Add(\"https://atlas-opendata.web.cern.ch/atlas-opendata/samples/2020/2lep/MC/mc_361100.Wplusenu.2lep.root\")\n",
    "b12=treeb.GetEntries()\n",
    "samplesBck=[b1,b2,b3,b4,b5,b6,b7,b8,b9,b10,b11,b12]"
   ]
  },
  {
   "cell_type": "markdown",
   "id": "f531df63",
   "metadata": {},
   "source": [
    "Again, open a root file to store the events from the background processes"
   ]
  },
  {
   "cell_type": "code",
   "execution_count": 12,
   "id": "d61295fd",
   "metadata": {},
   "outputs": [
    {
     "data": {
      "text/plain": [
       "<TFileRecreate b'background.root' at 0x7f92ce5b0e50>"
      ]
     },
     "execution_count": 12,
     "metadata": {},
     "output_type": "execute_result"
    }
   ],
   "source": [
    "roofb = uproot3.recreate(\"RootFiles/background.root\")\n",
    "roofb"
   ]
  },
  {
   "cell_type": "code",
   "execution_count": 13,
   "id": "4d3de78d",
   "metadata": {},
   "outputs": [],
   "source": [
    "roofb[\"background\"] = uproot3.newtree({\"mll\": np.float32, \"lead\": np.float32, \"sublead\": np.float32, \"weight\": np.float32})"
   ]
  },
  {
   "cell_type": "code",
   "execution_count": 14,
   "id": "b91f2764",
   "metadata": {},
   "outputs": [
    {
     "name": "stdout",
     "output_type": "stream",
     "text": [
      "Running a total of  14371616  events\n",
      "5M completed in 8 min 13 s\n",
      "Approx time for finishing is 15 min 24 s\n",
      "10M completed in 15 min 24 s\n",
      "Approx time for finishing is 6 min 44 s\n",
      "14M completed in 22 min 30 s\n",
      "Approx time for finishing is 0 min 35 s\n",
      "Initial events: 14371616\n",
      "Final events: 11041114\n",
      "Finished in 23 min 18 s\n",
      "Successful close\n"
     ]
    }
   ],
   "source": [
    "#This analysis section is similar to the signal section, but is less strict when cleaning events.\n",
    "start = time.time()\n",
    "invMb=[]\n",
    "leadptb=[]\n",
    "subleadptb=[]\n",
    "weightsb=[]\n",
    "leadlepton = ROOT.TLorentzVector()\n",
    "subleadlepton = ROOT.TLorentzVector()\n",
    "lepton12 = ROOT.TLorentzVector()\n",
    "k=0\n",
    "kf=0\n",
    "lumi=10\n",
    "index1=0\n",
    "index2=1\n",
    "print(\"Running a total of \",samplesBck[11],\" events\")\n",
    "for event in treeb:\n",
    "    k=k+1\n",
    "    if(treeb.trigE or treeb.trigM):\n",
    "        if(treeb.lep_n==2):\n",
    "            if(treeb.lep_pt[index1]>treeb.lep_pt[index2]):\n",
    "                leadlepton.SetPtEtaPhiE(treeb.lep_pt[index1], treeb.lep_eta[index1], treeb.lep_phi[index1], treeb.lep_E[index1])\n",
    "                subleadlepton.SetPtEtaPhiE(treeb.lep_pt[index2], treeb.lep_eta[index2], treeb.lep_phi[index2], treeb.lep_E[index2])\n",
    "            else:\n",
    "                leadlepton.SetPtEtaPhiE(treeb.lep_pt[index2], treeb.lep_eta[index2], treeb.lep_phi[index2], treeb.lep_E[index2])\n",
    "                subleadlepton.SetPtEtaPhiE(treeb.lep_pt[index1], treeb.lep_eta[index1], treeb.lep_phi[index1], treeb.lep_E[index1])\n",
    "            lepton12=leadlepton+subleadlepton\n",
    "            invmass=lepton12.M()/1000.\n",
    "            ptlead=leadlepton.Pt()/1000.\n",
    "            ptsub=subleadlepton.Pt()/1000.\n",
    "            invMb.append(invmass)\n",
    "            leadptb.append(ptlead)\n",
    "            subleadptb.append(ptsub)\n",
    "            if(k<=samplesBck[0]):\n",
    "                sample='ZqqZll'\n",
    "            if(k>samplesBck[0] and k<=samplesBck[1]):\n",
    "                sample='WqqZll'\n",
    "            if(k>samplesBck[1] and k<=samplesBck[2]):\n",
    "                sample='WpqqWmlv'\n",
    "            if(k>samplesBck[2] and k<=samplesBck[3]):\n",
    "                sample='WplvWmqq'\n",
    "            if(k>samplesBck[3] and k<=samplesBck[4]):\n",
    "                sample='WlvZqq'\n",
    "            if(k>samplesBck[4] and k<=samplesBck[5]):\n",
    "                sample='llll'\n",
    "            if(k>samplesBck[5] and k<=samplesBck[6]):\n",
    "                sample='lllv'\n",
    "            if(k>samplesBck[6] and k<=samplesBck[7]):\n",
    "                sample='llvv'\n",
    "            if(k>samplesBck[7] and k<=samplesBck[8]):\n",
    "                sample='lvvv'\n",
    "            if(k>samplesBck[8] and k<=samplesBck[9]):\n",
    "                sample='single_top_tchan'\n",
    "            if(k>samplesBck[9] and k<=samplesBck[10]):\n",
    "                sample='single_antitop_tchan'\n",
    "            if(k>samplesBck[10] and k<=samplesBck[11]):\n",
    "                sample='Wplusenu'\n",
    "            info = infofile.infos[sample]\n",
    "            xsec_weight = (lumi*1000*info[\"xsec\"])/(info[\"sumw\"]*info[\"red_eff\"])\n",
    "            weight=xsec_weight*treeb.mcWeight*treeb.scaleFactor_PILEUP*treeb.scaleFactor_ELE*treeb.scaleFactor_MUON*treeb.scaleFactor_LepTRIGGER\n",
    "            weightsb.append(weight)\n",
    "            kf+=1\n",
    "                            \n",
    "\n",
    "    if(k==5000000):\n",
    "        xd=time.time()\n",
    "        taked=xd-start\n",
    "        tre=(samplesBck[11]-k)*taked/k\n",
    "        print(\"5M completed in {} min {} s\".format(int(taked//60),int(taked%60)))\n",
    "        print(\"Approx time for finishing is {} min {} s\".format(int(tre//60),int(tre%60))) \n",
    "    if(k==10000000):\n",
    "        xd=time.time()\n",
    "        taked=xd-start\n",
    "        tre=(samplesBck[11]-k)*taked/k\n",
    "        print(\"10M completed in {} min {} s\".format(int(taked//60),int(taked%60)))\n",
    "        print(\"Approx time for finishing is {} min {} s\".format(int(tre//60),int(tre%60))) \n",
    "    if(k==14000000):\n",
    "        xd=time.time()\n",
    "        taked=xd-start\n",
    "        tre=(samplesBck[11]-k)*taked/k\n",
    "        print(\"14M completed in {} min {} s\".format(int(taked//60),int(taked%60)))\n",
    "        print(\"Approx time for finishing is {} min {} s\".format(int(tre//60),int(tre%60))) \n",
    "\n",
    "end = time.time()\n",
    "duration = end-start\n",
    "print('Initial events:', k)\n",
    "print('Final events:', kf)\n",
    "print(\"Finished in {} min {} s\".format(int(duration//60),int(duration%60)))\n",
    "roofb[\"background\"].extend({\"mll\": invMb, \"lead\": leadptb, \"sublead\": subleadptb, \"weight\": weightsb})\n",
    "roofb.close()\n",
    "print('Successful close')"
   ]
  },
  {
   "cell_type": "markdown",
   "id": "4d42414e",
   "metadata": {},
   "source": [
    "## Now, we extract and merge the data into one root file\n",
    "\n",
    "Here, we do the exact same process but with the data."
   ]
  },
  {
   "cell_type": "code",
   "execution_count": 4,
   "id": "260f2d44",
   "metadata": {},
   "outputs": [
    {
     "name": "stdout",
     "output_type": "stream",
     "text": [
      "12205790\n"
     ]
    }
   ],
   "source": [
    "data = TChain(\"mini\")\n",
    "data.Add(\"https://atlas-opendata.web.cern.ch/atlas-opendata/samples/2020/2lep/Data/data_A.2lep.root\")\n",
    "data.Add(\"https://atlas-opendata.web.cern.ch/atlas-opendata/samples/2020/2lep/Data/data_B.2lep.root\")\n",
    "data.Add(\"https://atlas-opendata.web.cern.ch/atlas-opendata/samples/2020/2lep/Data/data_C.2lep.root\")\n",
    "data.Add(\"https://atlas-opendata.web.cern.ch/atlas-opendata/samples/2020/2lep/Data/data_D.2lep.root\")\n",
    "d=data.GetEntries()\n",
    "print(d)"
   ]
  },
  {
   "cell_type": "code",
   "execution_count": 5,
   "id": "ee8fa440",
   "metadata": {},
   "outputs": [
    {
     "data": {
      "text/plain": [
       "<TFileRecreate b'data.root' at 0x7f92cef6c040>"
      ]
     },
     "execution_count": 5,
     "metadata": {},
     "output_type": "execute_result"
    }
   ],
   "source": [
    "roofd = uproot3.recreate(\"RootFiles/data.root\")\n",
    "roofd"
   ]
  },
  {
   "cell_type": "code",
   "execution_count": 6,
   "id": "003a5154",
   "metadata": {},
   "outputs": [],
   "source": [
    "roofd[\"data\"] = uproot3.newtree({\"mll\": np.float32, \"lead\": np.float32, \"sublead\": np.float32, \"weight\": np.float32})"
   ]
  },
  {
   "cell_type": "code",
   "execution_count": 8,
   "id": "f63d2bed",
   "metadata": {
    "scrolled": true
   },
   "outputs": [
    {
     "name": "stdout",
     "output_type": "stream",
     "text": [
      "Running a total of  12205790  events\n",
      "5M completed in 7 min 3 s\n",
      "Approx time for finishing is 17 min 12 s\n",
      "10M completed in 14 min 15 s\n",
      "Approx time for finishing is 17 min 24 s\n",
      "Initial events: 12205790\n",
      "Final events: 12131468\n",
      "Finished in 16 min 58 s\n",
      "Successful close\n"
     ]
    }
   ],
   "source": [
    "start = time.time()\n",
    "invMd=[]\n",
    "leadptd=[]\n",
    "subleadptd=[]\n",
    "weightsd=[]\n",
    "leadlepton = ROOT.TLorentzVector()\n",
    "subleadlepton = ROOT.TLorentzVector()\n",
    "lepton12 = ROOT.TLorentzVector()\n",
    "k=0\n",
    "kf=0\n",
    "lumi=10\n",
    "index1=0\n",
    "index2=1\n",
    "print(\"Running a total of \",d,\" events\")\n",
    "for event in data:\n",
    "    k=k+1\n",
    "    if(data.trigE or data.trigM):\n",
    "        if(data.lep_n==2):\n",
    "            if(data.lep_pt[index1]>data.lep_pt[index2]):\n",
    "                leadlepton.SetPtEtaPhiE(data.lep_pt[index1], data.lep_eta[index1], data.lep_phi[index1], data.lep_E[index1])\n",
    "                subleadlepton.SetPtEtaPhiE(data.lep_pt[index2], data.lep_eta[index2], data.lep_phi[index2], data.lep_E[index2])\n",
    "            else:\n",
    "                leadlepton.SetPtEtaPhiE(data.lep_pt[index2], data.lep_eta[index2], data.lep_phi[index2], data.lep_E[index2])\n",
    "                subleadlepton.SetPtEtaPhiE(data.lep_pt[index1], data.lep_eta[index1], data.lep_phi[index1], data.lep_E[index1])\n",
    "            lepton12=leadlepton+subleadlepton\n",
    "            invmass=lepton12.M()/1000.\n",
    "            ptlead=leadlepton.Pt()/1000.\n",
    "            ptsub=subleadlepton.Pt()/1000.\n",
    "            invMd.append(invmass)\n",
    "            leadptd.append(ptlead)\n",
    "            subleadptd.append(ptsub)\n",
    "            weightsd.append(1)\n",
    "            kf+=1\n",
    "    if(k==5000000):\n",
    "        xd=time.time()\n",
    "        taked=xd-start\n",
    "        tre=(d-k)*taked/k\n",
    "        print(\"5M completed in {} min {} s\".format(int(taked//60),int(taked%60)))\n",
    "        print(\"Approx time for finishing is {} min {} s\".format(int(tre//60),int(tre%60))) \n",
    "    if(k==10000000):\n",
    "        xd=time.time()\n",
    "        taked=xd-start\n",
    "        tre=(d-k)*taked/k\n",
    "        print(\"10M completed in {} min {} s\".format(int(taked//60),int(taked%60)))\n",
    "        print(\"Approx time for finishing is {} min {} s\".format(int(tre//60),int(tre%60))) \n",
    "end = time.time()\n",
    "duration = end-start\n",
    "print('Initial events:', k)\n",
    "print('Final events:', kf)\n",
    "print(\"Finished in {} min {} s\".format(int(duration//60),int(duration%60)))\n",
    "roofd[\"data\"].extend({\"mll\": invMd, \"lead\": leadptd, \"sublead\": subleadptd, \"weight\": weightsd})\n",
    "roofd.close()\n",
    "print('Successful close')"
   ]
  }
 ],
 "metadata": {
  "kernelspec": {
   "display_name": "Python 3",
   "language": "python",
   "name": "python3"
  },
  "language_info": {
   "codemirror_mode": {
    "name": "ipython",
    "version": 3
   },
   "file_extension": ".py",
   "mimetype": "text/x-python",
   "name": "python",
   "nbconvert_exporter": "python",
   "pygments_lexer": "ipython3",
   "version": "3.9.6"
  }
 },
 "nbformat": 4,
 "nbformat_minor": 5
}
