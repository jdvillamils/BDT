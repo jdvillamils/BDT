{
 "cells": [
  {
   "cell_type": "code",
   "execution_count": 1,
   "id": "d0fa06a1",
   "metadata": {},
   "outputs": [
    {
     "name": "stderr",
     "output_type": "stream",
     "text": [
      "/cvmfs/sft.cern.ch/lcg/views/LCG_101swan/x86_64-centos7-gcc10-opt/lib/python3.9/site-packages/uproot3/__init__.py:127: FutureWarning: Consider switching from 'uproot3' to 'uproot', since the new interface became the default in 2020.\n",
      "\n",
      "    pip install -U uproot\n",
      "\n",
      "In Python:\n",
      "\n",
      "    >>> import uproot\n",
      "    >>> with uproot.open(...) as file:\n",
      "    ...\n",
      "\n",
      "  warnings.warn(\n",
      "/cvmfs/sft.cern.ch/lcg/views/LCG_101swan/x86_64-centos7-gcc10-opt/lib/python3.9/site-packages/awkward0/__init__.py:12: FutureWarning: Consider switching from 'awkward0' to 'awkward', since the new interface became the default in 2020.\n",
      "\n",
      "    pip install -U awkward\n",
      "\n",
      "In Python:\n",
      "\n",
      "    >>> import awkward as ak\n",
      "    >>> new_style_array = ak.from_awkward0(old_style_array)\n",
      "    >>> old_style_array = ak.to_awkward0(new_style_array)\n",
      "\n",
      "  warnings.warn(\n"
     ]
    },
    {
     "name": "stdout",
     "output_type": "stream",
     "text": [
      "Welcome to JupyROOT 6.24/06\n"
     ]
    }
   ],
   "source": [
    "import uproot3\n",
    "import pandas as pd \n",
    "import ROOT\n",
    "from ROOT import TMath, TChain\n",
    "import time\n",
    "import numpy as np\n",
    "import root_pandas as rp\n",
    "import math\n",
    "import matplotlib.pyplot as plt \n",
    "from matplotlib.ticker import AutoMinorLocator "
   ]
  },
  {
   "cell_type": "code",
   "execution_count": 4,
   "id": "ecff6869",
   "metadata": {},
   "outputs": [],
   "source": [
    "f = ROOT.TFile.Open(\"RootFiles/splitMC.root\")\n",
    "treeS=f.Get(\"SignalTrain\")\n",
    "treeB=f.Get(\"BackgroundTrain\")"
   ]
  },
  {
   "cell_type": "code",
   "execution_count": 6,
   "id": "e78ead68",
   "metadata": {},
   "outputs": [],
   "source": [
    "df1=pd.DataFrame(columns=('mll', 'lead', 'sublead'))\n",
    "df2=pd.DataFrame(columns=('mll', 'lead', 'sublead'))\n",
    "k=0\n",
    "for event in treeS:\n",
    "    df1.loc[k]=[treeS.mll,treeS.lead,treeS.sublead]\n",
    "    k+=1\n",
    "    if(k==40000): break\n",
    "        \n",
    "k=0\n",
    "for event in treeB:\n",
    "    df2.loc[k]=[treeB.mll,treeB.lead,treeB.sublead]\n",
    "    k+=1\n",
    "    if(k==40000): break"
   ]
  },
  {
   "cell_type": "code",
   "execution_count": 7,
   "id": "3467530f",
   "metadata": {},
   "outputs": [],
   "source": [
    "data={}\n",
    "samples=['Signal','Background']\n",
    "df_all=[df1,df2]\n",
    "for i in range(len(samples)):\n",
    "    frames=[]\n",
    "    data_all=pd.DataFrame()\n",
    "    data_all=data_all.append(df_all[i])\n",
    "    frames.append(data_all)\n",
    "    data[samples[i]]=pd.concat(frames)"
   ]
  },
  {
   "cell_type": "code",
   "execution_count": 8,
   "id": "81118819",
   "metadata": {},
   "outputs": [
    {
     "data": {
      "text/plain": [
       "{'Signal':              mll       lead    sublead\n",
       " 0      83.241081  50.097565  34.146080\n",
       " 1      88.288010  50.539906  28.266872\n",
       " 2      90.001915  44.840797  44.087513\n",
       " 3      96.053658  45.912575  44.105106\n",
       " 4      86.702248  45.175327  31.083399\n",
       " ...          ...        ...        ...\n",
       " 39995  90.778984  46.100395  44.628002\n",
       " 39996  86.669647  41.244904  35.272049\n",
       " 39997  91.130753  45.298264  41.389484\n",
       " 39998  96.199944  38.519154  37.780735\n",
       " 39999  90.694046  31.749424  30.306047\n",
       " \n",
       " [40000 rows x 3 columns],\n",
       " 'Background':              mll        lead    sublead\n",
       " 0      93.204437  124.174240  36.407166\n",
       " 1      86.358315   52.469830  42.395828\n",
       " 2      88.770370   50.000759  37.587879\n",
       " 3      92.450806   45.091682  37.807648\n",
       " 4      96.653496   51.936882  44.763012\n",
       " ...          ...         ...        ...\n",
       " 39995  91.831940   98.248123  20.313194\n",
       " 39996  95.679977   45.683998  40.858223\n",
       " 39997  91.012138   47.353706   7.718978\n",
       " 39998  93.069725   48.618248  29.383535\n",
       " 39999  87.184784   43.152721  41.570591\n",
       " \n",
       " [40000 rows x 3 columns]}"
      ]
     },
     "execution_count": 8,
     "metadata": {},
     "output_type": "execute_result"
    }
   ],
   "source": [
    "data_for_BDT = {} # define empty dictionary to hold dataframes that will be used to train the BDT\n",
    "BDT_inputs = ['mll', 'lead','sublead']#'InvMassZ2','FourLeptonSystemPt','FourLeptonSystemMass']# list of features for BDT\n",
    "for key in data: # loop over the different keys in the dictionary of dataframes\n",
    "    data_for_BDT[key] = data[key][BDT_inputs].copy()\n",
    "data_for_BDT"
   ]
  },
  {
   "cell_type": "code",
   "execution_count": 9,
   "id": "baf3b692",
   "metadata": {},
   "outputs": [
    {
     "name": "stdout",
     "output_type": "stream",
     "text": [
      "[0. 0. 0. ... 1. 1. 1.]\n"
     ]
    }
   ],
   "source": [
    "all_MC = [] # define empty list that will contain all features for the MC\n",
    "for key in data: # loop over the different keys in the dictionary of dataframes\n",
    "    if key!='data': # only MC should pass this\n",
    "        all_MC.append(data_for_BDT[key]) # append the MC dataframe to the list containing all MC features\n",
    "X = np.concatenate(all_MC) # concatenate the list of MC dataframes into a single 2D array of features, called X\n",
    "#print(X)\n",
    "all_y = [] # define empty list that will contain labels whether an event in signal or background\n",
    "for key in data: # loop over the different keys in the dictionary of dataframes\n",
    "    if key!='Signal' and key!='data': # only background MC should pass this\n",
    "        all_y.append(np.zeros(data_for_BDT[key].shape[0])) # background events are labelled with 0\n",
    "all_y.append(np.ones(data_for_BDT['Signal'].shape[0])) # signal events are labelled with 1\n",
    "y = np.concatenate(all_y) # concatenate the list of lables into a single 1D array of labels, called y\n",
    "print(y)"
   ]
  },
  {
   "cell_type": "code",
   "execution_count": 24,
   "id": "dc0a43cb",
   "metadata": {},
   "outputs": [],
   "source": [
    "from sklearn.model_selection import train_test_split\n",
    "\n",
    "# make train and test sets\n",
    "X_train,X_test, y_train,y_test = train_test_split(X, y, \n",
    "                                                  test_size=0.5, \n",
    "                                                  random_state=492 )"
   ]
  },
  {
   "cell_type": "code",
   "execution_count": 26,
   "id": "775b19ee",
   "metadata": {},
   "outputs": [
    {
     "name": "stdout",
     "output_type": "stream",
     "text": [
      "Time taken to fit BDT: 0.6s\n",
      "AdaBoostClassifier(algorithm='SAMME',\n",
      "                   base_estimator=DecisionTreeClassifier(max_depth=2),\n",
      "                   learning_rate=0.5, n_estimators=12)\n"
     ]
    }
   ],
   "source": [
    "from sklearn.tree import DecisionTreeClassifier\n",
    "from sklearn.ensemble import AdaBoostClassifier\n",
    "\n",
    "dt = DecisionTreeClassifier(max_depth=2) # maximum depth of the tree\n",
    "bdt = AdaBoostClassifier(dt,\n",
    "                        algorithm='SAMME', # SAMME discrete boosting algorithm\n",
    "                        n_estimators=12, # max number of estimators at which boosting is terminated\n",
    "                        learning_rate=0.5) # shrinks the contribution of each classifier by learning_rate\n",
    "\n",
    "start = time.time() # time at start of BDT fit\n",
    "bdt.fit(X_train, y_train) # fit BDT to training set\n",
    "elapsed = time.time() - start # time after fitting BDT\n",
    "print(\"Time taken to fit BDT: \"+str(round(elapsed,1))+\"s\") # print total time taken to fit BDT\n",
    "print(bdt)"
   ]
  },
  {
   "cell_type": "code",
   "execution_count": 27,
   "id": "890c8dca",
   "metadata": {},
   "outputs": [
    {
     "name": "stdout",
     "output_type": "stream",
     "text": [
      "              precision    recall  f1-score   support\n",
      "\n",
      "  background       0.78      0.92      0.85     19942\n",
      "      signal       0.90      0.74      0.82     20058\n",
      "\n",
      "    accuracy                           0.83     40000\n",
      "   macro avg       0.84      0.83      0.83     40000\n",
      "weighted avg       0.84      0.83      0.83     40000\n",
      "\n",
      "Area under ROC curve for test data: 0.8859\n"
     ]
    }
   ],
   "source": [
    "from sklearn.metrics import classification_report, roc_auc_score\n",
    "y_predicted = bdt.predict(X_test) # get predicted y for test set\n",
    "print (classification_report(y_test, y_predicted,\n",
    "                            target_names=[\"background\", \"signal\"]))\n",
    "print (\"Area under ROC curve for test data: %.4f\"%(roc_auc_score(y_test,\n",
    "                                                    bdt.decision_function(X_test))) )"
   ]
  },
  {
   "cell_type": "code",
   "execution_count": 28,
   "id": "77301bf8",
   "metadata": {},
   "outputs": [
    {
     "data": {
      "image/png": "[encoded data removed]",
      "text/plain": [
       "<Figure size 432x288 with 1 Axes>"
      ]
     },
     "metadata": {
      "needs_background": "light"
     },
     "output_type": "display_data"
    },
    {
     "data": {
      "image/png": "[encoded data removed]",
      "text/plain": [
       "<Figure size 432x288 with 1 Axes>"
      ]
     },
     "metadata": {
      "needs_background": "light"
     },
     "output_type": "display_data"
    }
   ],
   "source": [
    "# we first plot the Neural Network output\n",
    "signal_decisions = bdt.decision_function(X[y>0.5]).ravel() # get probabilities on signal\n",
    "background_decisions = bdt.decision_function(X[y<0.5]).ravel() # get decisions on background\n",
    "\n",
    "plt.hist(background_decisions, color='red', label='background', \n",
    "         histtype='step', # lineplot that's unfilled\n",
    "         density=True ) # normalize to form a probability density\n",
    "plt.hist(signal_decisions, color='blue', label='signal', \n",
    "         histtype='step', # lineplot that's unfilled\n",
    "         density=True, # normalize to form a probability density\n",
    "         linestyle='--' ) # dashed line\n",
    "plt.xlabel('BDT output') # add x-axis label\n",
    "plt.ylabel('Arbitrary units') # add y-axis label\n",
    "plt.legend() # add legend\n",
    "\n",
    "\n",
    "# we then plot the ROC\n",
    "plt.figure() # make new figure \n",
    "\n",
    "from sklearn.metrics import roc_curve, auc\n",
    "\n",
    "decisions = bdt.decision_function(X_test).ravel() # get probabilities on test set\n",
    "\n",
    "# Compute ROC curve and area under the curve\n",
    "fpr, tpr, _ = roc_curve(y_test, # actual\n",
    "                        decisions ) # predicted\n",
    "\n",
    "# Compute area under the curve for training set\n",
    "roc_auc = auc(fpr, # false positive rate \n",
    "              tpr) # true positive rate\n",
    "\n",
    "plt.plot(fpr, tpr, label='ROC (area = %0.2f)'%(roc_auc)) # plot test ROC curve\n",
    "plt.plot([0, 1], # x from 0 to 1\n",
    "         [0, 1], # y from 0 to 1\n",
    "         '--', # dashed line\n",
    "         color='grey', label='Luck')\n",
    "\n",
    "plt.xlabel('False Positive Rate') # x-axis label\n",
    "plt.ylabel('True Positive Rate') # y-axis label\n",
    "plt.title('Receiver operating characteristic (ROC) curve') # title\n",
    "plt.legend() # add legend\n",
    "plt.grid() # add grid"
   ]
  }
 ],
 "metadata": {
  "kernelspec": {
   "display_name": "Python 3",
   "language": "python",
   "name": "python3"
  },
  "language_info": {
   "codemirror_mode": {
    "name": "ipython",
    "version": 3
   },
   "file_extension": ".py",
   "mimetype": "text/x-python",
   "name": "python",
   "nbconvert_exporter": "python",
   "pygments_lexer": "ipython3",
   "version": "3.9.6"
  }
 },
 "nbformat": 4,
 "nbformat_minor": 5
}
